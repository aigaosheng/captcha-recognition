{
 "cells": [
  {
   "cell_type": "code",
   "execution_count": 131,
   "id": "016f5dc8-8f25-4fc6-b0ef-066838ffa4bc",
   "metadata": {},
   "outputs": [
    {
     "name": "stdout",
     "output_type": "stream",
     "text": [
      "***** Start training using 22 samples\n",
      "*** model saved to ./model/captcha_lr.pkl\n",
      "*** train done\n"
     ]
    },
    {
     "name": "stderr",
     "output_type": "stream",
     "text": [
      "/home/gs/miniconda3/envs/t2v/lib/python3.10/site-packages/sklearn/linear_model/_sag.py:350: ConvergenceWarning: The max_iter was reached which means the coef_ did not converge\n",
      "  warnings.warn(\n"
     ]
    }
   ],
   "source": [
    "\"\"\"\n",
    "Solution 1: use traditional machine learning model\n",
    "\"\"\"\n",
    "\n",
    "import os\n",
    "import sys\n",
    "import numpy as np\n",
    "from sklearn.linear_model import LogisticRegression\n",
    "import pickle\n",
    "from sklearn.model_selection import train_test_split, RandomizedSearchCV\n",
    "import random\n",
    "\n",
    "#define captcha class for train, predict\n",
    "class Captcha(object):\n",
    "    def __init__(self, is_train = False, model_pth = None):\n",
    "        #function mode control and moel saved path\n",
    "        self.model_pth = model_pth\n",
    "        self.model = None\n",
    "\n",
    "        if not is_train:\n",
    "            try:\n",
    "                with open(self.model_pth, \"rb\") as ofl:\n",
    "                    self.model = pickle.load(ofl)\n",
    "                    print(f\"*** model loading success -> {self.model_pth}\")\n",
    "            except:\n",
    "                raise Exception(f\" *** model not found -> {self.model_pth}\")\n",
    "                \n",
    "    def fit(self, train_sample, train_label):\n",
    "        print(f\"***** Start training using {len(train_label)} samples\")\n",
    "        self.model = LogisticRegression(penalty = \"l1\", solver = \"saga\", random_state = 20240116)\n",
    "        self.model.fit(train_sample, train_label)\n",
    "        if self.model_pth:\n",
    "            with open(self.model_pth, \"wb\") as ofl:\n",
    "                pickle.dump(self.model, ofl)\n",
    "                print(f\"*** model saved to {self.model_pth}\")\n",
    "        print(f\"*** train done\")\n",
    "\n",
    "    def __call__(self, im_path, save_path):\n",
    "        \"\"\"\n",
    "        Algo for inference\n",
    "        args:\n",
    "            im_path: image file to load and to infer, \n",
    "                \n",
    "            save_path: output file path to save the one-line outcome\n",
    "        \"\"\"\n",
    "        if im_path.endswith(\".txt\"):\n",
    "            #load text format image data same sample\n",
    "            input_data, _ = load_captchas_image_label(im_path)\n",
    "        else:\n",
    "            #load image data\n",
    "            img = cv2.imread(im_path)\n",
    "            img = cv2.cvtColor(img, cv2.COLOR_BGR2RGB)\n",
    "            input_data = img.mean(axis = 2).reshape(-1,)\n",
    "            \n",
    "        pred = self.model.predict([input_data])[0]\n",
    "\n",
    "        if save_path:\n",
    "            nm = im_path.split(\"/\")[-1].split(\".\")[0] + \".txt\"\n",
    "            o_file = os.path.join(save_path, nm)\n",
    "            with open(o_file, \"wt\") as ofl:\n",
    "                ofl.write(pred)\n",
    "\n",
    "        return pred\n",
    "        \n",
    "\n",
    "def load_captchas_image_label(filename_input, filename_input_label = None):\n",
    "    #load samples\n",
    "    pixels = []\n",
    "    with open(filename_input, \"r\") as f:\n",
    "        next(f)\n",
    "        for line in f:\n",
    "            for item in line.split(\" \"):\n",
    "                vals = [int(val) for val in item.split(\",\")]\n",
    "                pixels.append(sum(vals)/len(vals))\n",
    "    #\n",
    "    label = None\n",
    "    if filename_input_label:\n",
    "        with open(filename_input_label, \"r\") as f:\n",
    "            label = f.read().strip()\n",
    "    \n",
    "    return pixels, label\n",
    "        \n",
    "# Step-1: Prepare data for model training & test\n",
    "captcha_image_folder = \"./input\"\n",
    "captcha_image_label_folder = \"./output\"\n",
    "# inputs = []\n",
    "# labels = []\n",
    "x_train, x_test, y_train, y_test, id_train, id_test = [], [], [], [], [], []\n",
    "ratio_train = 0.8\n",
    "\n",
    "random.seed(20240116)\n",
    "for filename in os.listdir(captcha_folder):\n",
    "    if filename.endswith(\".txt\"):\n",
    "        input_image_fl = os.path.join(captcha_folder, filename)\n",
    "        input_image_label_fl = os.path.join(captcha_image_label_folder, \"output\" + filename.split('input')[1])\n",
    "        isample = load_captchas_image_label(input_image_fl, input_image_label_fl)\n",
    "        \n",
    "        if random.random() <= ratio_train:   \n",
    "            x_train.append(isample[0])\n",
    "            y_train.append(isample[1])\n",
    "            id_train.append(filename)\n",
    "        else:\n",
    "            x_test.append(isample[0])\n",
    "            y_test.append(isample[1])\n",
    "            id_test.append(filename)\n",
    "            \n",
    "# Split the data into training and testing sets\n",
    "# x_train, x_test, y_train, y_test = train_test_split(inputs, labels, test_size=0.2, random_state=42)\n",
    "\n",
    "#Step-2:\n",
    "inst_learner = Captcha(is_train = True, model_pth = \"./model/captcha_lr.pkl\")\n",
    "inst_learner.fit(x_train, y_train)"
   ]
  },
  {
   "cell_type": "code",
   "execution_count": 132,
   "id": "1e6d628d-13a3-453f-a8b1-fc2c3d2d13f1",
   "metadata": {},
   "outputs": [
    {
     "data": {
      "text/plain": [
       "['input10.txt', 'input22.txt', 'input23.txt']"
      ]
     },
     "execution_count": 132,
     "metadata": {},
     "output_type": "execute_result"
    }
   ],
   "source": [
    "id_test"
   ]
  },
  {
   "cell_type": "code",
   "execution_count": 136,
   "id": "d69f6a84-3b6d-4bc1-826f-f4c07345deed",
   "metadata": {},
   "outputs": [
    {
     "name": "stdout",
     "output_type": "stream",
     "text": [
      "*** model loading success -> ./model/captcha_lr.pkl\n",
      "./input/input10.txt\n",
      "./input/input22.txt\n",
      "./input/input23.txt\n"
     ]
    }
   ],
   "source": [
    "inst_learner = Captcha(is_train = False, model_pth = \"./model/captcha_lr.pkl\")\n",
    "\n",
    "#test inference using text\n",
    "for v in id_test:\n",
    "    name = os.path.join(captcha_image_folder, v) \n",
    "    print(name)\n",
    "    inst_learner(name, \"./output_lr\")\n"
   ]
  },
  {
   "cell_type": "code",
   "execution_count": 142,
   "id": "38d8619d-d22e-4291-9900-267450136bae",
   "metadata": {},
   "outputs": [
    {
     "name": "stderr",
     "output_type": "stream",
     "text": [
      "Some weights of VisionEncoderDecoderModel were not initialized from the model checkpoint at microsoft/trocr-large-printed and are newly initialized: ['encoder.pooler.dense.bias', 'encoder.pooler.dense.weight']\n",
      "You should probably TRAIN this model on a down-stream task to be able to use it for predictions and inference.\n",
      "Could not find image processor class in the image processor config or the model config. Loading based on pattern matching with the model's feature extractor configuration.\n",
      "/home/gs/miniconda3/envs/t2v/lib/python3.10/site-packages/transformers/models/vit/feature_extraction_vit.py:28: FutureWarning: The class ViTFeatureExtractor is deprecated and will be removed in version 5 of Transformers. Please use ViTImageProcessor instead.\n",
      "  warnings.warn(\n"
     ]
    },
    {
     "name": "stdout",
     "output_type": "stream",
     "text": [
      "./input/input10.jpg\n"
     ]
    },
    {
     "name": "stderr",
     "output_type": "stream",
     "text": [
      "/home/gs/miniconda3/envs/t2v/lib/python3.10/site-packages/transformers/generation/utils.py:1355: UserWarning: Using the model-agnostic default `max_length` (=20) to control the generation length. We recommend setting `max_new_tokens` to control the maximum length of the generation.\n",
      "  warnings.warn(\n"
     ]
    },
    {
     "name": "stdout",
     "output_type": "stream",
     "text": [
      "./output_i2t/input10.txt\n",
      "./input/input22.jpg\n"
     ]
    },
    {
     "name": "stderr",
     "output_type": "stream",
     "text": [
      "/home/gs/miniconda3/envs/t2v/lib/python3.10/site-packages/transformers/generation/utils.py:1355: UserWarning: Using the model-agnostic default `max_length` (=20) to control the generation length. We recommend setting `max_new_tokens` to control the maximum length of the generation.\n",
      "  warnings.warn(\n"
     ]
    },
    {
     "name": "stdout",
     "output_type": "stream",
     "text": [
      "./output_i2t/input22.txt\n",
      "./input/input23.jpg\n"
     ]
    },
    {
     "name": "stderr",
     "output_type": "stream",
     "text": [
      "/home/gs/miniconda3/envs/t2v/lib/python3.10/site-packages/transformers/generation/utils.py:1355: UserWarning: Using the model-agnostic default `max_length` (=20) to control the generation length. We recommend setting `max_new_tokens` to control the maximum length of the generation.\n",
      "  warnings.warn(\n"
     ]
    },
    {
     "name": "stdout",
     "output_type": "stream",
     "text": [
      "./output_i2t/input23.txt\n"
     ]
    }
   ],
   "source": [
    "\"\"\"\n",
    "Solution 2: use SOTA Image-to-Text pretrained model\n",
    "\"\"\"\n",
    "\n",
    "from transformers import pipeline\n",
    "from PIL import Image\n",
    "\n",
    "class CaptchaI2T(object):\n",
    "    def __init__(self, ):\n",
    "        self.pipe = pipeline(\"image-to-text\", model=\"microsoft/trocr-large-printed\")\n",
    "\n",
    "    def __call__(self, im_path, save_path):\n",
    "        \"\"\"\n",
    "        Algo for inference\n",
    "        args:\n",
    "            im_path: image file to load and to infer, \n",
    "                \n",
    "            save_path: output file path to save the one-line outcome\n",
    "        \"\"\"\n",
    "        try:\n",
    "            input_data = Image.open(im_path).convert(\"RGB\")\n",
    "            input_data.show()\n",
    "            pred2 = self.pipe(input_data)[0]\n",
    "            pred = pred2[\"generated_text\"]\n",
    "            # print(pred)\n",
    "            \n",
    "            if save_path:\n",
    "                nm = im_path.split(\"/\")[-1].split(\".\")[0] + \".txt\"\n",
    "                o_file = os.path.join(save_path, nm)\n",
    "                print(o_file)\n",
    "                with open(o_file, \"wt\") as ofl:\n",
    "                    ofl.write(pred)\n",
    "        except:\n",
    "            print(f\"*** Inference failed -> {im_path}\")\n",
    "            pred = None\n",
    "\n",
    "        return pred\n",
    "\n",
    "#test\n",
    "inst_i2t = CaptchaI2T()\n",
    "\n",
    "#test inference using text\n",
    "for v in id_test:\n",
    "    name = os.path.join(captcha_image_folder, v.split(\".\")[0] + \".jpg\") \n",
    "    print(name)\n",
    "    inst_i2t(name, \"./output_i2t\")\n"
   ]
  },
  {
   "cell_type": "code",
   "execution_count": 151,
   "id": "868b25a8-8585-4b3f-9348-02db7bda8930",
   "metadata": {},
   "outputs": [],
   "source": [
    "from diffusers.utils import make_image_grid\n",
    "img_lst = []\n",
    "pred_lr = []\n",
    "pred_i2t = []\n",
    "label = []\n",
    "\n",
    "for v in id_test:\n",
    "    name = os.path.join(\"./input\", v.split(\".\")[0] + \".jpg\") \n",
    "    img_lst.append(Image.open(name))\n",
    "    name = os.path.join(\"./output\", \"output\"+v.split(\"input\")[1])\n",
    "    with open(name, \"rt\") as ofl:\n",
    "        s = ofl.read().strip(\"\\n\")\n",
    "        label.append(s)\n",
    "\n",
    "    name = os.path.join(\"./output\", \"output\"+v.split(\"input\")[1])\n",
    "    with open(name, \"rt\") as ofl:\n",
    "        s = ofl.read().strip(\"\\n\")\n",
    "        label.append(s)\n",
    "\n",
    "    name = os.path.join(\"./output_lr\", \"input\"+v.split(\"input\")[1])\n",
    "    with open(name, \"rt\") as ofl:\n",
    "        s = ofl.read().strip(\"\\n\")\n",
    "        pred_lr.append(s)\n",
    "\n",
    "    name = os.path.join(\"./output_i2t\", \"input\"+v.split(\"input\")[1])\n",
    "    with open(name, \"rt\") as ofl:\n",
    "        s = ofl.read().strip(\"\\n\")\n",
    "        pred_i2t.append(s)\n",
    "\n",
    "    \n"
   ]
  },
  {
   "cell_type": "code",
   "execution_count": 154,
   "id": "8d19629b-0de0-48e2-b696-a4285fe20a3d",
   "metadata": {},
   "outputs": [
    {
     "name": "stdout",
     "output_type": "stream",
     "text": [
      "Input image\n"
     ]
    },
    {
     "data": {
      "image/jpeg": "[encoded data removed]",
      "image/png": "[encoded data removed]",
      "text/plain": [
       "<PIL.Image.Image image mode=RGB size=180x30>"
      ]
     },
     "execution_count": 154,
     "metadata": {},
     "output_type": "execute_result"
    }
   ],
   "source": [
    "print(\"Input image\")\n",
    "make_image_grid(img_lst, 1, 3)"
   ]
  },
  {
   "cell_type": "code",
   "execution_count": 155,
   "id": "6f56e758-af46-4852-88b3-108fb23e7a47",
   "metadata": {},
   "outputs": [
    {
     "name": "stdout",
     "output_type": "stream",
     "text": [
      "Model prediction: Logistic regression\n",
      "['ZRMQU', '6O5W1', 'WGST7']\n",
      "Model prediction: image-to-text\n",
      "['GZMBA', 'HCE91', 'WELXV']\n"
     ]
    }
   ],
   "source": [
    "print(\"Model prediction: Logistic regression\")\n",
    "print(pred_lr)\n",
    "\n",
    "print(\"Model prediction: image-to-text\")\n",
    "print(pred_i2t)\n"
   ]
  },
  {
   "cell_type": "code",
   "execution_count": null,
   "id": "9d118819-533b-4dac-a66e-73306cf2b69b",
   "metadata": {},
   "outputs": [],
   "source": [
    "\"\"\"\n",
    "From above 3 samples, image-to-text is quite better than traditional classifier such as logic regression\n",
    "\"\"\""
   ]
  }
 ],
 "metadata": {
  "kernelspec": {
   "display_name": "Python 3 (ipykernel)",
   "language": "python",
   "name": "python3"
  },
  "language_info": {
   "codemirror_mode": {
    "name": "ipython",
    "version": 3
   },
   "file_extension": ".py",
   "mimetype": "text/x-python",
   "name": "python",
   "nbconvert_exporter": "python",
   "pygments_lexer": "ipython3",
   "version": "3.10.13"
  }
 },
 "nbformat": 4,
 "nbformat_minor": 5
}
